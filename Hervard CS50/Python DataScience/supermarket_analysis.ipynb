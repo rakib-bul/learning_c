{
 "cells": [
  {
   "cell_type": "markdown",
   "id": "dd9a31e4",
   "metadata": {},
   "source": [
    "# E-commerce Sales data analysis"
   ]
  },
  {
   "cell_type": "markdown",
   "id": "03a96a75",
   "metadata": {},
   "source": [
    "Analyze the Dataset and Answer the Following Questions:\n",
    "1. What is the total revenue (before discount vs after discount) across all transactions?\n",
    "2. Which category has the highest total sales (both price and final price)?\n",
    "\n",
    "3. Which month had the highest sales volume and revenue?\n",
    "\n",
    "4. What is the average discount percentage given across categories?\n",
    "5. Which day/month has the highest sales activity?\n",
    "6. Are there seasonal trends in purchases (e.g., more purchases near year-end)?\n",
    "7. Which categories are popular in certain months?\n",
    "8. Which payment method generated the highest revenue?\n",
    "9. Which user has made the highest number of purchases?\n",
    "10. Who spent the most money (final price sum) overall?\n",
    "\n",
    "11. Are there users who bought from multiple categories?"
   ]
  },
  {
   "cell_type": "code",
   "execution_count": 12,
   "id": "25b2400c",
   "metadata": {},
   "outputs": [],
   "source": [
    "import pandas as pd \n",
    "import numpy as np"
   ]
  },
  {
   "cell_type": "markdown",
   "id": "1357b7fa",
   "metadata": {},
   "source": [
    "### Read the dataset"
   ]
  },
  {
   "cell_type": "code",
   "execution_count": 13,
   "id": "910e3107",
   "metadata": {},
   "outputs": [
    {
     "name": "stdout",
     "output_type": "stream",
     "text": [
      "       User_ID  Product_ID        Category  Price (Rs.)  Discount (%)  \\\n",
      "0     337c166f  f414122f-e          Sports        36.53            15   \n",
      "1     d38a19bf  fde50f9c-5        Clothing       232.79            20   \n",
      "2     d7f5f0b0  0d96fc90-3          Sports       317.02            25   \n",
      "3     395d4994  964fc44b-d            Toys       173.19            25   \n",
      "4     a83c145c  d70e2fc6-e          Beauty       244.80            20   \n",
      "...        ...         ...             ...          ...           ...   \n",
      "3655  67abda0a  28714133-6          Beauty       486.79             0   \n",
      "3656  34ebc1a0  08838c2c-9            Toys       212.87            15   \n",
      "3657  1defd3b1  c39a4f16-6  Home & Kitchen       389.76             0   \n",
      "3658  0611293d  b4f67f96-9     Electronics       447.66            30   \n",
      "3659  e73ad07c  a5d07442-d  Home & Kitchen       235.77            30   \n",
      "\n",
      "      Final_Price(Rs.)    Payment_Method Purchase_Date  \n",
      "0                31.05       Net Banking    12-11-2024  \n",
      "1               186.23       Net Banking    09-02-2024  \n",
      "2               237.76       Credit Card    01-09-2024  \n",
      "3               129.89               UPI    01-04-2024  \n",
      "4               195.84       Net Banking    27-09-2024  \n",
      "...                ...               ...           ...  \n",
      "3655            486.79               UPI    14-05-2024  \n",
      "3656            180.94  Cash on Delivery    19-11-2024  \n",
      "3657            389.76       Net Banking    07-08-2024  \n",
      "3658            313.36               UPI    21-05-2024  \n",
      "3659            165.04               UPI    14-04-2024  \n",
      "\n",
      "[3660 rows x 8 columns]\n"
     ]
    }
   ],
   "source": [
    "df = pd.read_csv(\"ecommerce_dataset_updated.csv\")\n",
    "\n",
    "print(df)"
   ]
  },
  {
   "cell_type": "code",
   "execution_count": 14,
   "id": "526473f4",
   "metadata": {},
   "outputs": [
    {
     "name": "stdout",
     "output_type": "stream",
     "text": [
      "(3660, 8)\n"
     ]
    }
   ],
   "source": [
    "print(df.shape)"
   ]
  },
  {
   "cell_type": "code",
   "execution_count": 15,
   "id": "e3280516",
   "metadata": {},
   "outputs": [
    {
     "name": "stdout",
     "output_type": "stream",
     "text": [
      "<bound method DataFrame.info of        User_ID  Product_ID        Category  Price (Rs.)  Discount (%)  \\\n",
      "0     337c166f  f414122f-e          Sports        36.53            15   \n",
      "1     d38a19bf  fde50f9c-5        Clothing       232.79            20   \n",
      "2     d7f5f0b0  0d96fc90-3          Sports       317.02            25   \n",
      "3     395d4994  964fc44b-d            Toys       173.19            25   \n",
      "4     a83c145c  d70e2fc6-e          Beauty       244.80            20   \n",
      "...        ...         ...             ...          ...           ...   \n",
      "3655  67abda0a  28714133-6          Beauty       486.79             0   \n",
      "3656  34ebc1a0  08838c2c-9            Toys       212.87            15   \n",
      "3657  1defd3b1  c39a4f16-6  Home & Kitchen       389.76             0   \n",
      "3658  0611293d  b4f67f96-9     Electronics       447.66            30   \n",
      "3659  e73ad07c  a5d07442-d  Home & Kitchen       235.77            30   \n",
      "\n",
      "      Final_Price(Rs.)    Payment_Method Purchase_Date  \n",
      "0                31.05       Net Banking    12-11-2024  \n",
      "1               186.23       Net Banking    09-02-2024  \n",
      "2               237.76       Credit Card    01-09-2024  \n",
      "3               129.89               UPI    01-04-2024  \n",
      "4               195.84       Net Banking    27-09-2024  \n",
      "...                ...               ...           ...  \n",
      "3655            486.79               UPI    14-05-2024  \n",
      "3656            180.94  Cash on Delivery    19-11-2024  \n",
      "3657            389.76       Net Banking    07-08-2024  \n",
      "3658            313.36               UPI    21-05-2024  \n",
      "3659            165.04               UPI    14-04-2024  \n",
      "\n",
      "[3660 rows x 8 columns]>\n"
     ]
    }
   ],
   "source": [
    "print(df.info)"
   ]
  },
  {
   "cell_type": "markdown",
   "id": "29f87de6",
   "metadata": {},
   "source": [
    "### Check the colunms & Data Type"
   ]
  },
  {
   "cell_type": "code",
   "execution_count": 33,
   "id": "6d91336c",
   "metadata": {},
   "outputs": [
    {
     "name": "stdout",
     "output_type": "stream",
     "text": [
      "Index(['User_ID', 'Product_ID', 'Category', 'Price (Rs.)', 'Discount (%)',\n",
      "       'Final_Price(Rs.)', 'Payment_Method', 'Purchase_Date'],\n",
      "      dtype='object')\n",
      "Data Type:\n",
      "User_ID              object\n",
      "Product_ID           object\n",
      "Category             object\n",
      "Price (Rs.)         float64\n",
      "Discount (%)          int64\n",
      "Final_Price(Rs.)    float64\n",
      "Payment_Method       object\n",
      "Purchase_Date        object\n",
      "dtype: object\n"
     ]
    }
   ],
   "source": [
    "col = df.columns\n",
    "print(col.unique())\n",
    "\n",
    "print(\"Data Type:\")\n",
    "print(df.dtypes)"
   ]
  }
 ],
 "metadata": {
  "kernelspec": {
   "display_name": "Python 3",
   "language": "python",
   "name": "python3"
  },
  "language_info": {
   "codemirror_mode": {
    "name": "ipython",
    "version": 3
   },
   "file_extension": ".py",
   "mimetype": "text/x-python",
   "name": "python",
   "nbconvert_exporter": "python",
   "pygments_lexer": "ipython3",
   "version": "3.13.7"
  }
 },
 "nbformat": 4,
 "nbformat_minor": 5
}
