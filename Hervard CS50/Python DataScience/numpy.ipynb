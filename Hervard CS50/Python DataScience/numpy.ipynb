{
 "cells": [
  {
   "cell_type": "markdown",
   "id": "b5f165f9",
   "metadata": {},
   "source": [
    "# Numpy"
   ]
  },
  {
   "cell_type": "code",
   "execution_count": 25,
   "id": "4cf1c97b",
   "metadata": {},
   "outputs": [],
   "source": [
    "import numpy as np"
   ]
  },
  {
   "cell_type": "markdown",
   "id": "2fad6d42",
   "metadata": {},
   "source": [
    "## Array"
   ]
  },
  {
   "cell_type": "code",
   "execution_count": 26,
   "id": "36d5775f",
   "metadata": {},
   "outputs": [
    {
     "data": {
      "text/plain": [
       "array([['SL', 'Name', 'Age'],\n",
       "       ['1', 'Rakib', '25']], dtype='<U21')"
      ]
     },
     "execution_count": 26,
     "metadata": {},
     "output_type": "execute_result"
    }
   ],
   "source": [
    "data = np.array([[\"SL\", \"Name\", \"Age\"],[1, \"Rakib\", 25]])\n",
    "data"
   ]
  },
  {
   "cell_type": "code",
   "execution_count": 27,
   "id": "6317252b",
   "metadata": {},
   "outputs": [
    {
     "data": {
      "text/plain": [
       "(2, 3)"
      ]
     },
     "execution_count": 27,
     "metadata": {},
     "output_type": "execute_result"
    }
   ],
   "source": [
    "data.shape"
   ]
  },
  {
   "cell_type": "code",
   "execution_count": 28,
   "id": "5d14dccc",
   "metadata": {},
   "outputs": [
    {
     "data": {
      "text/plain": [
       "dtype('<U21')"
      ]
     },
     "execution_count": 28,
     "metadata": {},
     "output_type": "execute_result"
    }
   ],
   "source": [
    "data.dtype"
   ]
  },
  {
   "cell_type": "code",
   "execution_count": 29,
   "id": "bc94d224",
   "metadata": {},
   "outputs": [
    {
     "name": "stdout",
     "output_type": "stream",
     "text": [
      "[2, 2, 4.5, 5, 8, 9]\n"
     ]
    }
   ],
   "source": [
    "data1 = [2,4.5, 2,9 ,8,5]\n",
    "data1.sort()\n",
    "print(data1)"
   ]
  },
  {
   "cell_type": "code",
   "execution_count": null,
   "id": "ff50dadf",
   "metadata": {},
   "outputs": [
    {
     "data": {
      "text/plain": [
       "array([[3.55271368e+33, 3.55271368e+33, 3.55271368e+33, 3.55271368e+33,\n",
       "        3.55271368e+33, 3.55271368e+33],\n",
       "       [3.55271368e+33, 3.55271368e+33, 3.55271368e+33, 3.55271368e+33,\n",
       "        3.55271368e+33, 3.55271368e+33],\n",
       "       [3.55271368e+33, 3.55271368e+33, 3.55271368e+33, 3.55271368e+33,\n",
       "        3.55271368e+33, 3.55271368e+33],\n",
       "       [3.55271368e+33, 3.55271368e+33, 3.55271368e+33, 3.55271368e+33,\n",
       "        3.55271368e+33, 3.55271368e+33],\n",
       "       [3.55271368e+33, 3.55271368e+33, 3.55271368e+33, 3.55271368e+33,\n",
       "        3.55271368e+33, 3.55271368e+33],\n",
       "       [3.55271368e+33, 3.55271368e+33, 3.55271368e+33, 3.55271368e+33,\n",
       "        3.55271368e+33, 3.55271368e+33],\n",
       "       [3.55271368e+33, 3.55271368e+33, 3.55271368e+33, 3.55271368e+33,\n",
       "        3.55271368e+33, 3.55271368e+33],\n",
       "       [3.55271368e+33, 3.55271368e+33, 3.55271368e+33, 3.55271368e+33,\n",
       "        3.55271368e+33, 3.55271368e+33],\n",
       "       [3.55271368e+33, 3.55271368e+33, 3.55271368e+33, 3.55271368e+33,\n",
       "        3.55271368e+33, 3.55271368e+33],\n",
       "       [3.55271368e+33, 3.55271368e+33, 3.55271368e+33, 3.55271368e+33,\n",
       "        3.55271368e+33, 3.55271368e+33]])"
      ]
     },
     "execution_count": 30,
     "metadata": {},
     "output_type": "execute_result"
    }
   ],
   "source": [
    "# Create an array of zeros with shape (10, 6)\n",
    "data2 = np.zeros((10, 6))\n",
    "data3 = np.ones((10,6))\n",
    "data3+= 1;\n",
    "data4 = data2 + data3\n",
    "data4 **48"
   ]
  },
  {
   "cell_type": "code",
   "execution_count": 32,
   "id": "84f0fa41",
   "metadata": {},
   "outputs": [
    {
     "data": {
      "text/plain": [
       "array([1., 2., 3., 4., 5.])"
      ]
     },
     "execution_count": 32,
     "metadata": {},
     "output_type": "execute_result"
    }
   ],
   "source": [
    "arr = np.array([1,2,3,4,5])\n",
    "\n",
    "arr2 = arr.astype(float)\n",
    "arr2"
   ]
  }
 ],
 "metadata": {
  "kernelspec": {
   "display_name": "Python 3",
   "language": "python",
   "name": "python3"
  },
  "language_info": {
   "codemirror_mode": {
    "name": "ipython",
    "version": 3
   },
   "file_extension": ".py",
   "mimetype": "text/x-python",
   "name": "python",
   "nbconvert_exporter": "python",
   "pygments_lexer": "ipython3",
   "version": "3.13.7"
  }
 },
 "nbformat": 4,
 "nbformat_minor": 5
}
