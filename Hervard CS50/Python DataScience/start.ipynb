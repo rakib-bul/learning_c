{
 "cells": [
  {
   "cell_type": "markdown",
   "id": "3130ba21",
   "metadata": {},
   "source": [
    "# Python Data Science"
   ]
  },
  {
   "cell_type": "code",
   "execution_count": 4,
   "id": "a1269a38",
   "metadata": {},
   "outputs": [
    {
     "name": "stdout",
     "output_type": "stream",
     "text": [
      "Hello World\n"
     ]
    }
   ],
   "source": [
    "print(\"Hello World\")"
   ]
  },
  {
   "cell_type": "code",
   "execution_count": 5,
   "id": "9150cbeb",
   "metadata": {},
   "outputs": [],
   "source": [
    "numbers = [12,13,14,17,58]"
   ]
  },
  {
   "cell_type": "code",
   "execution_count": 6,
   "id": "f1223ddb",
   "metadata": {},
   "outputs": [
    {
     "name": "stdout",
     "output_type": "stream",
     "text": [
      "13\n",
      "Maximum number is 58\n"
     ]
    }
   ],
   "source": [
    "print(numbers[1])\n",
    "\n",
    "print(\"Maximum number is\", max(numbers))"
   ]
  },
  {
   "cell_type": "code",
   "execution_count": 7,
   "id": "0041febf",
   "metadata": {},
   "outputs": [
    {
     "name": "stdout",
     "output_type": "stream",
     "text": [
      "12\n",
      "12\n",
      "12\n"
     ]
    }
   ],
   "source": [
    "x = 12\n",
    "\n",
    "for i in range(3):\n",
    "    print(x);"
   ]
  },
  {
   "cell_type": "code",
   "execution_count": 8,
   "id": "b7e84229",
   "metadata": {},
   "outputs": [
    {
     "name": "stdout",
     "output_type": "stream",
     "text": [
      "[0.5419588881826135, -0.4725296444934141, -0.4141089625691978, -1.389096181548306, 1.439207504390294, -0.9916728927699091, -0.24264990799636676]\n"
     ]
    }
   ],
   "source": [
    "import numpy as np\n",
    "data = [np.random.standard_normal() for i in range(7)]\n",
    "print(data)"
   ]
  },
  {
   "cell_type": "markdown",
   "id": "25630fa6",
   "metadata": {},
   "source": [
    "## Tab Completion"
   ]
  },
  {
   "cell_type": "code",
   "execution_count": 17,
   "id": "54e1f6bf",
   "metadata": {},
   "outputs": [
    {
     "data": {
      "text/plain": [
       "74"
      ]
     },
     "execution_count": 17,
     "metadata": {},
     "output_type": "execute_result"
    }
   ],
   "source": [
    "apple = 27\n",
    "example = 47\n",
    "apple\n",
    "example + apple"
   ]
  },
  {
   "cell_type": "code",
   "execution_count": 19,
   "id": "289cfd6b",
   "metadata": {},
   "outputs": [
    {
     "name": "stdout",
     "output_type": "stream",
     "text": [
      "\u001b[31mSignature:\u001b[39m print(*args, sep=\u001b[33m' '\u001b[39m, end=\u001b[33m'\\n'\u001b[39m, file=\u001b[38;5;28;01mNone\u001b[39;00m, flush=\u001b[38;5;28;01mFalse\u001b[39;00m)\n",
      "\u001b[31mDocstring:\u001b[39m\n",
      "Prints the values to a stream, or to sys.stdout by default.\n",
      "\n",
      "sep\n",
      "  string inserted between values, default a space.\n",
      "end\n",
      "  string appended after the last value, default a newline.\n",
      "file\n",
      "  a file-like object (stream); defaults to the current sys.stdout.\n",
      "flush\n",
      "  whether to forcibly flush the stream.\n",
      "\u001b[31mType:\u001b[39m      builtin_function_or_method"
     ]
    }
   ],
   "source": [
    "print?"
   ]
  }
 ],
 "metadata": {
  "kernelspec": {
   "display_name": "Python 3",
   "language": "python",
   "name": "python3"
  },
  "language_info": {
   "codemirror_mode": {
    "name": "ipython",
    "version": 3
   },
   "file_extension": ".py",
   "mimetype": "text/x-python",
   "name": "python",
   "nbconvert_exporter": "python",
   "pygments_lexer": "ipython3",
   "version": "3.13.7"
  }
 },
 "nbformat": 4,
 "nbformat_minor": 5
}
